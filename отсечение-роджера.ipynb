{
  "metadata": {
    "kernelspec": {
      "name": "python",
      "display_name": "Python (Pyodide)",
      "language": "python"
    },
    "language_info": {
      "codemirror_mode": {
        "name": "python",
        "version": 3
      },
      "file_extension": ".py",
      "mimetype": "text/x-python",
      "name": "python",
      "nbconvert_exporter": "python",
      "pygments_lexer": "ipython3",
      "version": "3.8"
    }
  },
  "nbformat_minor": 4,
  "nbformat": 4,
  "cells": [
    {
      "cell_type": "code",
      "source": "def is_left(p0, p1, p2):\n    return (p1[0] - p0[0]) * (p2[1] - p0[1]) - (p2[0] - p0[0]) * (p1[1] - p0[1]) > 0\n \ndef is_visible(p0, p1, p2):\n    return is_left(p0, p1, p2) and is_left(p1, p2, p0) and is_left(p2, p0, p1)\n \ndef clip_visible_polygons(polygons):\n    visible_polygons = []\n \n    for polygon in polygons:\n        visible_polygon = []\n        n = len(polygon)\n \n        for i in range(n):\n            p0 = polygon[i]\n            p1 = polygon[(i + 1) % n]\n            p2 = polygon[(i + 2) % n]\n \n            if is_visible(p0, p1, p2):\n                visible_polygon.append(p1)\n \n        visible_polygons.append(visible_polygon)\n \n    return visible_polygons\n \n# Пример использования\npolygons = [[(0, 0), (0, 1), (1, 1), (1, 0)]]\nvisible_polygons = clip_visible_polygons(polygons)\nprint(visible_polygons)",
      "metadata": {
        "trusted": true
      },
      "outputs": [
        {
          "name": "stdout",
          "text": "[[]]\n",
          "output_type": "stream"
        }
      ],
      "execution_count": 1
    },
    {
      "cell_type": "code",
      "source": "",
      "metadata": {
        "trusted": true
      },
      "outputs": [],
      "execution_count": null
    }
  ]
}