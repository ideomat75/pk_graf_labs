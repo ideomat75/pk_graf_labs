{
  "nbformat": 4,
  "nbformat_minor": 0,
  "metadata": {
    "colab": {
      "provenance": []
    },
    "kernelspec": {
      "name": "python3",
      "display_name": "Python 3"
    },
    "language_info": {
      "name": "python"
    }
  },
  "cells": [
    {
      "cell_type": "code",
      "execution_count": 1,
      "metadata": {
        "colab": {
          "base_uri": "https://localhost:8080/",
          "height": 430
        },
        "id": "lnKjVLv6RLDW",
        "outputId": "24c42095-83a1-42c1-c7e1-94730f9737a2"
      },
      "outputs": [
        {
          "output_type": "display_data",
          "data": {
            "text/plain": [
              "<Figure size 640x480 with 1 Axes>"
            ],
            "image/png": "[encoded data removed]"
          },
          "metadata": {}
        }
      ],
      "source": [
        "import matplotlib.pyplot as plt\n",
        "import numpy as np\n",
        "\n",
        "def fill_polygon(img, seed):\n",
        "    stack = [seed]\n",
        "\n",
        "    while stack:\n",
        "        x, y = stack.pop()\n",
        "\n",
        "        if img[x, y] == 0:\n",
        "            img[x, y] = 1\n",
        "            neighbors = [(x-1, y), (x, y-1), (x+1, y), (x, y+1)]\n",
        "\n",
        "            for nx, ny in neighbors:\n",
        "                if 0 <= nx < img.shape[0] and 0 <= ny < img.shape[1]:\n",
        "                    stack.append((nx, ny))\n",
        "\n",
        "image_size = 10\n",
        "img = np.zeros((image_size, image_size))\n",
        "\n",
        "\n",
        "polygon_points = [(2, 2), (8, 2), (8, 8), (5, 5), (2, 8)]\n",
        "\n",
        "\n",
        "polygon = np.array(polygon_points)\n",
        "plt.fill(polygon[:, 0], polygon[:, 1], color='blue')\n",
        "seed_point = (4, 4)\n",
        "fill_polygon(img, seed_point)\n",
        "\n",
        "plt.imshow(img, cmap='gray', origin='lower')\n",
        "plt.show()\n"
      ]
    }
  ]
}