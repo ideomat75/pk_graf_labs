{
  "metadata": {
    "kernelspec": {
      "name": "python",
      "display_name": "Python (Pyodide)",
      "language": "python"
    },
    "language_info": {
      "codemirror_mode": {
        "name": "python",
        "version": 3
      },
      "file_extension": ".py",
      "mimetype": "text/x-python",
      "name": "python",
      "nbconvert_exporter": "python",
      "pygments_lexer": "ipython3",
      "version": "3.8"
    }
  },
  "nbformat_minor": 4,
  "nbformat": 4,
  "cells": [
    {
      "cell_type": "code",
      "source": "from PIL import Image\n\ndef sobel_filter(image, width, height):\n    kernel_x = [-1, 0, 1, -2, 0, 2, -1, 0, 1]\n    kernel_y = [-1, -2, -1, 0, 0, 0, 1, 2, 1]\n\n    sobel_x = [0] * len(image)\n    sobel_y = [0] * len(image)\n    for i in range(1, width - 1):\n        for j in range(1, height - 1):\n            for k in range(-4, 5):\n                sobel_x[j * width + i]  += image[j * width + i + k] * kernel_x[k + 4]\n                sobel_y[j * width + i]  += image[j * width + i + k] * kernel_y[k + 4] \n    gradient_magnitude = list(map(lambda a, b: int((a**2 + b**2)**0.5), sobel_x, sobel_y))\n    \n    return gradient_magnitude\n\nif __name__ == '__main__':\n    with Image.open('sobel_example1.png') as im:\n        im_arr = im.convert('L').getdata()\n        result = sobel_filter(im_arr, im.size[0], im.size[1])\n\n        new_im = Image.new(mode=\"RGB\", size=(im.size[0], im.size[1]))\n        new_im.putdata(result)\n        new_im = new_im.convert('L')\n        new_im.save('sobel_example2.png')\n        new_im.close()\n",
      "metadata": {
        "trusted": true
      },
      "outputs": [],
      "execution_count": 3
    },
    {
      "cell_type": "code",
      "source": "",
      "metadata": {
        "trusted": true
      },
      "outputs": [],
      "execution_count": null
    },
    {
      "cell_type": "code",
      "source": "",
      "metadata": {
        "trusted": true
      },
      "outputs": [],
      "execution_count": null
    },
    {
      "cell_type": "code",
      "source": "",
      "metadata": {
        "trusted": true
      },
      "outputs": [],
      "execution_count": null
    }
  ]
}