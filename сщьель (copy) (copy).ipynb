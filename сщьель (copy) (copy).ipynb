{
  "metadata": {
    "kernelspec": {
      "name": "python",
      "display_name": "Python (Pyodide)",
      "language": "python"
    },
    "language_info": {
      "codemirror_mode": {
        "name": "python",
        "version": 3
      },
      "file_extension": ".py",
      "mimetype": "text/x-python",
      "name": "python",
      "nbconvert_exporter": "python",
      "pygments_lexer": "ipython3",
      "version": "3.8"
    }
  },
  "nbformat_minor": 4,
  "nbformat": 4,
  "cells": [
    {
      "cell_type": "code",
      "source": "import cv2\nimport numpy as np\n\n# Загрузить изображение\nimage = cv2.imread('input.jpg', cv2.IMREAD_GRAYSCALE)\n\n# Применить оператор Собеля\nsobel_x = cv2.Sobel(image, cv2.CV_64F, 1, 0, ksize=3)  # Градиент по оси x\nsobel_y = cv2.Sobel(image, cv2.CV_64F, 0, 1, ksize=3)  # Градиент по оси y\n\n# Объединить результаты градиентов\ngradient = np.sqrt(np.square(sobel_x) + np.square(sobel_y))\n\n# Нормализовать значения градиента до диапазона 0-255\ngradient_normalized = cv2.normalize(gradient, None, 0, 255, cv2.NORM_MINMAX, cv2.CV_8U)\n\n# Вывести и сохранить результат\ncv2.imshow('Gradient', gradient_normalized)\ncv2.waitKey(0)\ncv2.imwrite('output.jpg', gradient_normalized)\ncv2.destroyAllWindows()",
      "metadata": {
        "trusted": true
      },
      "outputs": [],
      "execution_count": null
    },
    {
      "cell_type": "code",
      "source": "",
      "metadata": {
        "trusted": true
      },
      "outputs": [],
      "execution_count": null
    }
  ]
}