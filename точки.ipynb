{
  "metadata": {
    "kernelspec": {
      "name": "python",
      "display_name": "Python (Pyodide)",
      "language": "python"
    },
    "language_info": {
      "codemirror_mode": {
        "name": "python",
        "version": 3
      },
      "file_extension": ".py",
      "mimetype": "text/x-python",
      "name": "python",
      "nbconvert_exporter": "python",
      "pygments_lexer": "ipython3",
      "version": "3.8"
    }
  },
  "nbformat_minor": 4,
  "nbformat": 4,
  "cells": [
    {
      "cell_type": "code",
      "source": "def fill_boundary_points(matrix):\n    rows = len(matrix)\n    if rows == 0:\n        return\n\n    cols = len(matrix[0])\n\n    # Заполняем граничные точки\n    for i in range(1, rows - 1):\n        for j in range(1, cols - 1):\n            matrix[i][j] = matrix[i][j + 1] + matrix[i + 1][j]\n\n    # Выводим заполненный 2D-массив\n    for row in matrix:\n        print(row)\n\n# Создаем исходный 2D-массив\ninitial_matrix = [\n    [1, 2, 3, 4, 5],\n    [6, 7, 8, 9, 10],\n    [11, 12, 13, 14, 15],\n    [16, 17, 18, 19, 20],\n    [21, 22, 23, 24, 25]\n]\n\n# Запускаем метод заполнения граничных точек\nfill_boundary_points(initial_matrix)",
      "metadata": {
        "trusted": true
      },
      "outputs": [
        {
          "name": "stdout",
          "text": "[1, 2, 3, 4, 5]\n[6, 20, 22, 24, 10]\n[11, 30, 32, 34, 15]\n[16, 40, 42, 44, 20]\n[21, 22, 23, 24, 25]\n",
          "output_type": "stream"
        }
      ],
      "execution_count": 2
    },
    {
      "cell_type": "code",
      "source": "",
      "metadata": {
        "trusted": true
      },
      "outputs": [],
      "execution_count": null
    }
  ]
}