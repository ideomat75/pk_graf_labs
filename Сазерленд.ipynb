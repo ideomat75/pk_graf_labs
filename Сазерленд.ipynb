{
  "metadata": {
    "kernelspec": {
      "name": "python",
      "display_name": "Python (Pyodide)",
      "language": "python"
    },
    "language_info": {
      "codemirror_mode": {
        "name": "python",
        "version": 3
      },
      "file_extension": ".py",
      "mimetype": "text/x-python",
      "name": "python",
      "nbconvert_exporter": "python",
      "pygments_lexer": "ipython3",
      "version": "3.8"
    }
  },
  "nbformat_minor": 4,
  "nbformat": 4,
  "cells": [
    {
      "cell_type": "code",
      "source": "from PIL import Image\nfrom z_buffer import point3, fill3D, update_buffer, draw_buffer, get_plane\n\nclass point3:\n\tdef __init__(self, x, y, z):\n\t\tself.x = x\n\t\tself.y = y\n\t\tself.z = z\n\ndef diffuse_light(light_point, point, color, A, B, C):\n\tlight_direction = point3(light_point.x - point.x, light_point.y - point.y, light_point.z - point.z) \n\tlight = (light_direction.x * A + light_direction.y * B + light_direction.z * C) / ((light_direction.x**2 + light_direction.y**2 + light_direction.z**2)**0.5) / ((A**2 + B**2 + C**2)**0.5)\n\tif light < 0:\n\t\tlight = 0\n\n\tdiffuse_light = point3(light * color[0] * 1, light * color[1] * 1, light * color[2] * 1) \n\treturn diffuse_light\n\ndef specular_light(view_point, normal, light_point, point, color):\n\tnorm = point3(normal[0] / (normal[0]**2 + normal[1]**2 + normal[2]**2)**0.5, \n\t\t\t\t  normal[1] / (normal[0]**2 + normal[1]**2 + normal[2]**2)**0.5,\n\t\t\t\t  normal[2] / (normal[0]**2 + normal[1]**2 + normal[2]**2)**0.5)\n\tlight_direction = point3(light_point.x - point.x, light_point.y - point.y, light_point.z - point.z)\n\tscalar = norm.x * light_direction.x + norm.y * light_direction.y + norm.z * light_direction.z\n\n\treflection_point = point3(2 * norm.x * scalar - light_direction.x,\n\t\t\t\t\t\t\t  2 * norm.y * scalar - light_direction.y,\n\t\t\t\t\t\t\t  2 * norm.z * scalar - light_direction.z)\n\n\tlight = (reflection_point.x * view_point.x + reflection_point.y * view_point.y + reflection_point.z * view_point.z) / ((reflection_point.x**2 + reflection_point.y**2 + reflection_point.z**2)**0.5) / ((view_point.x**2 + view_point.y**2 + view_point.z**2)**0.5)\n\tlight *= (light_direction.x * norm.x + light_direction.y * norm.y + light_direction.z * norm.z) / ((light_direction.x**2 + light_direction.y**2 + light_direction.z**2)**0.5) / ((norm.x**2 + norm.y**2 + norm.z**2)**0.5)\n    \n\tspecular_light = point3(light * color[0] * 1, light * color[1] * 1, light * color[2] * 1)\n\treturn specular_light\n\n\ndef draw_light(image, points, color, z_buffer, light_point, norm):\n\t\n\tfor point in points:\n\t\tif point.z <= z_buffer[800 * point.y + point.x]:\n\t\t\tlightd = diffuse_light(light_point, point, color, norm[0], norm[1], norm[2])\n\t\t\tlights = specular_light(point3(400, 300, 0), norm, light_point, point, color)\n\t\t\timage.putpixel((int(point.x), int(point.y)), (int(lightd.x + lights.x), int(lightd.y + lights.y), int(lightd.z + lights.z)))\n\t\t\t# image.putpixel((int(point.x), int(point.y)), (int(lightd.x), int(lightd.y), int(lightd.z)))\n\nif __name__ == '__main__':\n\tvertexes1 = [\n\t\tpoint3(300, 300, 100),\n\t\tpoint3(350, 400, 100),\n\t \tpoint3(500, 150, 300)\n\t]\n\n\tvertexes2 = [\n\t\tpoint3(200, 100, 0),\n\t\tpoint3(400, 400, 200),\n\t\tpoint3(500, 200, 200)\n\t]\n\n\twith Image.open('light.png') as im:\n\t\tim.paste((0, 0, 0), (0, 0, im.size[0], im.size[1]))\n\n\t\tz_buffer = [1000] * 800 * 600\n\n\t\tpoints1 = fill3D(vertexes1)\n\t\tpoints2 = fill3D(vertexes2)\n\n\t\tupdate_buffer(points1, z_buffer)\n\t\tupdate_buffer(points2, z_buffer)\n\n\t\tdraw_light(im, points2, (0, 0, 255), z_buffer, point3(400, 300, 50), get_plane(vertexes2[0], vertexes2[1], vertexes2[2]))\n\t\tdraw_light(im, points1, (255, 0, 0), z_buffer, point3(400, 300, 50), get_plane(vertexes1[0], vertexes1[1], vertexes1[2]))\n\t\t\n\t\tim.save('light_with_spec.png')",
      "metadata": {
        "trusted": true
      },
      "outputs": [
        {
          "ename": "<class 'ModuleNotFoundError'>",
          "evalue": "No module named 'z_buffer'",
          "traceback": [
            "\u001b[0;31m---------------------------------------------------------------------------\u001b[0m",
            "\u001b[0;31mModuleNotFoundError\u001b[0m                       Traceback (most recent call last)",
            "Cell \u001b[0;32mIn[1], line 2\u001b[0m\n\u001b[1;32m      1\u001b[0m \u001b[38;5;28;01mfrom\u001b[39;00m \u001b[38;5;21;01mPIL\u001b[39;00m \u001b[38;5;28;01mimport\u001b[39;00m Image\n\u001b[0;32m----> 2\u001b[0m \u001b[38;5;28;01mfrom\u001b[39;00m \u001b[38;5;21;01mz_buffer\u001b[39;00m \u001b[38;5;28;01mimport\u001b[39;00m point3, fill3D, update_buffer, draw_buffer, get_plane\n\u001b[1;32m      4\u001b[0m \u001b[38;5;28;01mclass\u001b[39;00m \u001b[38;5;21;01mpoint3\u001b[39;00m:\n\u001b[1;32m      5\u001b[0m \t\u001b[38;5;28;01mdef\u001b[39;00m \u001b[38;5;21m__init__\u001b[39m(\u001b[38;5;28mself\u001b[39m, x, y, z):\n",
            "\u001b[0;31mModuleNotFoundError\u001b[0m: No module named 'z_buffer'"
          ],
          "output_type": "error"
        }
      ],
      "execution_count": 1
    },
    {
      "cell_type": "code",
      "source": "",
      "metadata": {
        "trusted": true
      },
      "outputs": [],
      "execution_count": null
    }
  ]
}