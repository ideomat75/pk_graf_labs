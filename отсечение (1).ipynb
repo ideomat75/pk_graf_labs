{
  "metadata": {
    "kernelspec": {
      "name": "python",
      "display_name": "Python (Pyodide)",
      "language": "python"
    },
    "language_info": {
      "codemirror_mode": {
        "name": "python",
        "version": 3
      },
      "file_extension": ".py",
      "mimetype": "text/x-python",
      "name": "python",
      "nbconvert_exporter": "python",
      "pygments_lexer": "ipython3",
      "version": "3.8"
    }
  },
  "nbformat_minor": 5,
  "nbformat": 4,
  "cells": [
    {
      "id": "a35eeb9f-df70-4ab1-a243-2d2025888eb0",
      "cell_type": "markdown",
      "source": "# Introduction to the JupyterLab and Jupyter Notebooks\n\nThis is a short introduction to two of the flagship tools created by [the Jupyter Community](https://jupyter.org).\n\n> **⚠️Experimental!⚠️**: This is an experimental interface provided by the [JupyterLite project](https://jupyterlite.readthedocs.io/en/latest/). It embeds an entire JupyterLab interface, with many popular packages for scientific computing, in your browser. There may be minor differences in behavior between JupyterLite and the JupyterLab you install locally. You may also encounter some bugs or unexpected behavior. To report any issues, or to get involved with the JupyterLite project, see [the JupyterLite repository](https://github.com/jupyterlite/jupyterlite/issues?q=is%3Aissue+is%3Aopen+sort%3Aupdated-desc).\n\n## JupyterLab 🧪\n\n**JupyterLab** is a next-generation web-based user interface for Project Jupyter. It enables you to work with documents and activities such as Jupyter notebooks, text editors, terminals, and custom components in a flexible, integrated, and extensible manner. It is the interface that you're looking at right now.\n\n**For an overview of the JupyterLab interface**, see the **JupyterLab Welcome Tour** on this page, by going to `Help -> Welcome Tour` and following the prompts.\n\n> **See Also**: For a more in-depth tour of JupyterLab with a full environment that runs in the cloud, see [the JupyterLab introduction on Binder](https://mybinder.org/v2/gh/jupyterlab/jupyterlab-demo/HEAD?urlpath=lab/tree/demo).\n\n## Jupyter Notebooks 📓\n\n**Jupyter Notebooks** are a community standard for communicating and performing interactive computing. They are a document that blends computations, outputs, explanatory text, mathematics, images, and rich media representations of objects.\n\nJupyterLab is one interface used to create and interact with Jupyter Notebooks.\n\n**For an overview of Jupyter Notebooks**, see the **JupyterLab Welcome Tour** on this page, by going to `Help -> Notebook Tour` and following the prompts.\n\n> **See Also**: For a more in-depth tour of Jupyter Notebooks and the Classic Jupyter Notebook interface, see [the Jupyter Notebook IPython tutorial on Binder](https://mybinder.org/v2/gh/ipython/ipython-in-depth/HEAD?urlpath=tree/binder/Index.ipynb).\n\n## An example: visualizing data in the notebook ✨\n\nBelow is an example of a code cell. We'll visualize some simple data using two popular packages in Python. We'll use [NumPy](https://numpy.org/) to create some random data, and [Matplotlib](https://matplotlib.org) to visualize it.\n\nNote how the code and the results of running the code are bundled together.",
      "metadata": {}
    },
    {
      "id": "fe55883a-6887-43dd-9498-5333a51799e2",
      "cell_type": "code",
      "source": "INSIDE = 0  # 0000\nLEFT = 1    # 0001\nRIGHT = 2   # 0010\nBOTTOM = 4  # 0100\nTOP = 8     # 1000\n\n# Определение кода для краев окна отсечения\ndef computeCode(x, y, xmin, ymin, xmax, ymax):\n    code = INSIDE\n    if x < xmin:\n        code |= LEFT\n    elif x > xmax:\n        code |= RIGHT\n    if y < ymin:\n        code |= BOTTOM\n    elif y > ymax:\n        code |= TOP\n    return code\n\n# Отсечение отрезка по алгоритму Кируса-Бека\ndef cohenSutherlandClip(x1, y1, x2, y2, xmin, ymin, xmax, ymax):\n    code1 = computeCode(x1, y1, xmin, ymin, xmax, ymax)\n    code2 = computeCode(x2, y2, xmin, ymin, xmax, ymax)\n    isInside = False\n\n    while True:\n        if code1 == 0 and code2 == 0:\n            isInside = True\n            break\n        elif (code1 & code2) != 0:\n            break\n        else:\n            x = 1.0\n            y = 1.0\n            if code1 != 0:\n                code_out = code1\n            else:\n                code_out = code2\n\n            if code_out & TOP:\n                x = x1 + (x2 - x1) * (ymax - y1) / (y2 - y1)\n                y = ymax\n            elif code_out & BOTTOM:\n                x = x1 + (x2 - x1) * (ymin - y1) / (y2 - y1)\n                y = ymin\n            elif code_out & RIGHT:\n                y = y1 + (y2 - y1) * (xmax - x1) / (x2 - x1)\n                x = xmax\n            elif code_out & LEFT:\n                y = y1 + (y2 - y1) * (xmin - x1) / (x2 - x1)\n                x = xmin\n\n            if code_out == code1:\n                x1 = x\n                y1 = y\n                code1 = computeCode(x1, y1, xmin, ymin, xmax, ymax)\n            else:\n                x2 = x\n                y2 = y\n                code2 = computeCode(x2, y2, xmin, ymin, xmax, ymax)\n\n    if isInside:\n        print(\"Отрезок полностью видим в окне отсечения.\")\n    else:\n        print(\"Отрезок за пределами окна отсечения.\")\n\n    return (isInside, x1, y1, x2, y2)\n\n# Пример использования функции\nx1 = 50\ny1 = 50\nx2 = 200\ny2 = 200\nxmin = 100\nymin = 100\nxmax = 300\nymax = 300\n\nresult = cohenSutherlandClip(x1, y1, x2, y2, xmin, ymin, xmax, ymax)\nprint(\"Новые координаты точек отрезка:\", result[1:])",
      "metadata": {
        "trusted": true
      },
      "outputs": [
        {
          "name": "stdout",
          "text": "Отрезок полностью видим в окне отсечения.\nНовые координаты точек отрезка: (100.0, 100, 200, 200)\n",
          "output_type": "stream"
        }
      ],
      "execution_count": 1
    },
    {
      "id": "b9670d85-ef29-4dfd-b4b5-e76d279c1f1a",
      "cell_type": "markdown",
      "source": "## Next steps 🏃\n\nThis is just a short introduction to JupyterLab and Jupyter Notebooks. See below for some more ways to interact with tools in the Jupyter ecosystem, and its community.\n\n### Other notebooks in this demo\n\nHere are some other notebooks in this demo. Each of the items below corresponds to a file or folder in the **file browser to the left**.\n\n- [**`Lorenz.ipynb`**](Lorenz.ipynb) uses Python to demonstrate interactive visualizations and computations around the [Lorenz system](https://en.wikipedia.org/wiki/Lorenz_system). It shows off basic Python functionality, including more visualizations, data structures, and scientific computing libraries.\n- [**`sqlite.ipynb`**](sqlite.ipynb) demonstrates how an in-browser sqlite kernel to run your own SQL commands from the notebook. It uses the [jupyterlite/xeus-sqlite-kernel](https://github.com/jupyterlite/xeus-sqlite-kernel).\n\n### Other sources of information in Jupyter\n\n- **More on using JupyterLab**: See [the JupyterLab documentation](https://jupyterlab.readthedocs.io/en/stable/) for more thorough information about how to install and use JupyterLab.\n- **More interactive demos**: See [try.jupyter.org](https://try.jupyter.org) for more interactive demos with the Jupyter ecosystem.\n- **Learn more about Jupyter**: See [the Jupyter community documentation](https://docs.jupyter.org) to learn more about the project, its community and tools, and how to get involved.\n- **Join our discussions**: The [Jupyter Community Forum](https://discourse.jupyter.org) is a place where many in the Jupyter community ask questions, help one another, and discuss issues around interactive computing and our ecosystem.",
      "metadata": {}
    },
    {
      "id": "b40f4dae-ac76-44b3-adc1-cbc97d447d91",
      "cell_type": "code",
      "source": "",
      "metadata": {
        "trusted": true
      },
      "outputs": [],
      "execution_count": null
    },
    {
      "id": "c09ffed8-b5e2-46cb-99f1-650611c537a7",
      "cell_type": "code",
      "source": "",
      "metadata": {
        "trusted": true
      },
      "outputs": [],
      "execution_count": null
    }
  ]
}